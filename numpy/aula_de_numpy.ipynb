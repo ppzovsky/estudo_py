{
  "nbformat": 4,
  "nbformat_minor": 0,
  "metadata": {
    "colab": {
      "provenance": [],
      "authorship_tag": "ABX9TyP0dY35/LYK8ndK/RNJjhaO",
      "include_colab_link": true
    },
    "kernelspec": {
      "name": "python3",
      "display_name": "Python 3"
    },
    "language_info": {
      "name": "python"
    }
  },
  "cells": [
    {
      "cell_type": "markdown",
      "metadata": {
        "id": "view-in-github",
        "colab_type": "text"
      },
      "source": [
        "<a href=\"https://colab.research.google.com/github/ppzovsky/estudo_py/blob/main/numpy/aula_de_numpy.ipynb\" target=\"_parent\"><img src=\"https://colab.research.google.com/assets/colab-badge.svg\" alt=\"Open In Colab\"/></a>"
      ]
    },
    {
      "cell_type": "code",
      "execution_count": 1,
      "metadata": {
        "id": "3ALbMcvdevgs"
      },
      "outputs": [],
      "source": [
        "import numpy as np"
      ]
    },
    {
      "cell_type": "code",
      "source": [
        "lista = [1,2,3]"
      ],
      "metadata": {
        "id": "ALkynwbzfow6"
      },
      "execution_count": 2,
      "outputs": []
    },
    {
      "cell_type": "code",
      "source": [
        "lista"
      ],
      "metadata": {
        "colab": {
          "base_uri": "https://localhost:8080/"
        },
        "id": "vogTi8sG6NGN",
        "outputId": "c12a803d-a7af-4054-9b69-fdeed083c65a"
      },
      "execution_count": 3,
      "outputs": [
        {
          "output_type": "execute_result",
          "data": {
            "text/plain": [
              "[1, 2, 3]"
            ]
          },
          "metadata": {},
          "execution_count": 3
        }
      ]
    },
    {
      "cell_type": "code",
      "source": [
        "np.array(lista)"
      ],
      "metadata": {
        "colab": {
          "base_uri": "https://localhost:8080/"
        },
        "id": "nW6b8Yay6SW4",
        "outputId": "c42fae32-96a3-4a32-e75e-af6536a9081c"
      },
      "execution_count": 4,
      "outputs": [
        {
          "output_type": "execute_result",
          "data": {
            "text/plain": [
              "array([1, 2, 3])"
            ]
          },
          "metadata": {},
          "execution_count": 4
        }
      ]
    },
    {
      "cell_type": "code",
      "source": [
        "#a numpy e uma biblioteca de algebra linear, que tem o metodos compilado em C"
      ],
      "metadata": {
        "id": "UMyvdIv66syf"
      },
      "execution_count": 5,
      "outputs": []
    },
    {
      "cell_type": "code",
      "source": [
        "matriz = [[1,2,3], [4,5,6],[7,8,9]]"
      ],
      "metadata": {
        "id": "xHUk5kD-9lR5"
      },
      "execution_count": 6,
      "outputs": []
    },
    {
      "cell_type": "code",
      "source": [
        "matriz\n"
      ],
      "metadata": {
        "colab": {
          "base_uri": "https://localhost:8080/"
        },
        "id": "41JxwZeqXEvY",
        "outputId": "f95b72ee-b161-4704-dfc8-57bbd6757242"
      },
      "execution_count": 7,
      "outputs": [
        {
          "output_type": "execute_result",
          "data": {
            "text/plain": [
              "[[1, 2, 3], [4, 5, 6], [7, 8, 9]]"
            ]
          },
          "metadata": {},
          "execution_count": 7
        }
      ]
    },
    {
      "cell_type": "code",
      "source": [
        "np.array(matriz)"
      ],
      "metadata": {
        "colab": {
          "base_uri": "https://localhost:8080/"
        },
        "id": "T7NkTIcsXUsf",
        "outputId": "7d81830e-d62c-4d3c-cd4f-ed7d8451451e"
      },
      "execution_count": 8,
      "outputs": [
        {
          "output_type": "execute_result",
          "data": {
            "text/plain": [
              "array([[1, 2, 3],\n",
              "       [4, 5, 6],\n",
              "       [7, 8, 9]])"
            ]
          },
          "metadata": {},
          "execution_count": 8
        }
      ]
    },
    {
      "cell_type": "code",
      "source": [
        "np.arange(0,10,2)"
      ],
      "metadata": {
        "colab": {
          "base_uri": "https://localhost:8080/"
        },
        "id": "DUlUYrCXXf47",
        "outputId": "f7d2eaa0-03ea-4f03-8bc4-54a2aed8c666"
      },
      "execution_count": 9,
      "outputs": [
        {
          "output_type": "execute_result",
          "data": {
            "text/plain": [
              "array([0, 2, 4, 6, 8])"
            ]
          },
          "metadata": {},
          "execution_count": 9
        }
      ]
    },
    {
      "cell_type": "code",
      "source": [
        "np.zeros ((4,7)) #cria uma matriz de zero"
      ],
      "metadata": {
        "colab": {
          "base_uri": "https://localhost:8080/"
        },
        "id": "q0aqVTHtX3e_",
        "outputId": "4133e8b6-ba92-4c1a-f5b0-d9413093610f"
      },
      "execution_count": 10,
      "outputs": [
        {
          "output_type": "execute_result",
          "data": {
            "text/plain": [
              "array([[0., 0., 0., 0., 0., 0., 0.],\n",
              "       [0., 0., 0., 0., 0., 0., 0.],\n",
              "       [0., 0., 0., 0., 0., 0., 0.],\n",
              "       [0., 0., 0., 0., 0., 0., 0.]])"
            ]
          },
          "metadata": {},
          "execution_count": 10
        }
      ]
    },
    {
      "cell_type": "code",
      "source": [
        "np.ones((5,1))"
      ],
      "metadata": {
        "colab": {
          "base_uri": "https://localhost:8080/"
        },
        "id": "oj9k4tbUYb0R",
        "outputId": "355072c5-fc85-4430-c7ea-6719fcda95b9"
      },
      "execution_count": 11,
      "outputs": [
        {
          "output_type": "execute_result",
          "data": {
            "text/plain": [
              "array([[1.],\n",
              "       [1.],\n",
              "       [1.],\n",
              "       [1.],\n",
              "       [1.]])"
            ]
          },
          "metadata": {},
          "execution_count": 11
        }
      ]
    },
    {
      "cell_type": "code",
      "source": [
        "np.eye(15) #cria matriz identidade"
      ],
      "metadata": {
        "colab": {
          "base_uri": "https://localhost:8080/"
        },
        "id": "4IpGdN9IYipm",
        "outputId": "73fde9c0-8e67-4d73-a97a-54fc993c3feb"
      },
      "execution_count": 12,
      "outputs": [
        {
          "output_type": "execute_result",
          "data": {
            "text/plain": [
              "array([[1., 0., 0., 0., 0., 0., 0., 0., 0., 0., 0., 0., 0., 0., 0.],\n",
              "       [0., 1., 0., 0., 0., 0., 0., 0., 0., 0., 0., 0., 0., 0., 0.],\n",
              "       [0., 0., 1., 0., 0., 0., 0., 0., 0., 0., 0., 0., 0., 0., 0.],\n",
              "       [0., 0., 0., 1., 0., 0., 0., 0., 0., 0., 0., 0., 0., 0., 0.],\n",
              "       [0., 0., 0., 0., 1., 0., 0., 0., 0., 0., 0., 0., 0., 0., 0.],\n",
              "       [0., 0., 0., 0., 0., 1., 0., 0., 0., 0., 0., 0., 0., 0., 0.],\n",
              "       [0., 0., 0., 0., 0., 0., 1., 0., 0., 0., 0., 0., 0., 0., 0.],\n",
              "       [0., 0., 0., 0., 0., 0., 0., 1., 0., 0., 0., 0., 0., 0., 0.],\n",
              "       [0., 0., 0., 0., 0., 0., 0., 0., 1., 0., 0., 0., 0., 0., 0.],\n",
              "       [0., 0., 0., 0., 0., 0., 0., 0., 0., 1., 0., 0., 0., 0., 0.],\n",
              "       [0., 0., 0., 0., 0., 0., 0., 0., 0., 0., 1., 0., 0., 0., 0.],\n",
              "       [0., 0., 0., 0., 0., 0., 0., 0., 0., 0., 0., 1., 0., 0., 0.],\n",
              "       [0., 0., 0., 0., 0., 0., 0., 0., 0., 0., 0., 0., 1., 0., 0.],\n",
              "       [0., 0., 0., 0., 0., 0., 0., 0., 0., 0., 0., 0., 0., 1., 0.],\n",
              "       [0., 0., 0., 0., 0., 0., 0., 0., 0., 0., 0., 0., 0., 0., 1.]])"
            ]
          },
          "metadata": {},
          "execution_count": 12
        }
      ]
    },
    {
      "cell_type": "code",
      "source": [
        "#o linspace parece o arange, mas ele n identifica o passo e sim a qtd de itens que o ussuario deseja\n",
        "\n",
        "np.linspace(0,10,8)"
      ],
      "metadata": {
        "id": "HzoO21IAY9W4",
        "colab": {
          "base_uri": "https://localhost:8080/"
        },
        "outputId": "8f72f6f0-01a4-49c4-e90a-c19f8ff06160"
      },
      "execution_count": 14,
      "outputs": [
        {
          "output_type": "execute_result",
          "data": {
            "text/plain": [
              "array([ 0.        ,  1.42857143,  2.85714286,  4.28571429,  5.71428571,\n",
              "        7.14285714,  8.57142857, 10.        ])"
            ]
          },
          "metadata": {},
          "execution_count": 14
        }
      ]
    },
    {
      "cell_type": "code",
      "source": [
        "np.random.rand(7)*50 #cria numeros aleatorios sem especificacao (dentro de parenteses e a qtd criada)"
      ],
      "metadata": {
        "colab": {
          "base_uri": "https://localhost:8080/"
        },
        "id": "IQrUcr9WdC27",
        "outputId": "48799f05-1490-4226-ef74-2f6192cdbbcd"
      },
      "execution_count": 17,
      "outputs": [
        {
          "output_type": "execute_result",
          "data": {
            "text/plain": [
              "array([10.84761605,  0.71924492,  4.79542003, 48.99552043, 37.09221702,\n",
              "       39.43141024, 22.49596224])"
            ]
          },
          "metadata": {},
          "execution_count": 17
        }
      ]
    },
    {
      "cell_type": "code",
      "source": [
        "np.random.rand(5,4,3)*10 #cria matriz aleatoria"
      ],
      "metadata": {
        "colab": {
          "base_uri": "https://localhost:8080/"
        },
        "id": "BPWeKol1dcSN",
        "outputId": "19980d34-31bf-4a43-9788-c8769dd90060"
      },
      "execution_count": 23,
      "outputs": [
        {
          "output_type": "execute_result",
          "data": {
            "text/plain": [
              "array([[[2.11985984, 7.92122882, 2.67716701],\n",
              "        [7.33053224, 1.33972643, 6.98691697],\n",
              "        [0.09390284, 2.05012601, 0.08834371],\n",
              "        [8.73527287, 4.46818976, 4.82587882]],\n",
              "\n",
              "       [[6.00623217, 3.7437496 , 6.45656347],\n",
              "        [7.62868927, 4.55159508, 2.02063338],\n",
              "        [7.98490114, 9.9412129 , 5.77070144],\n",
              "        [8.52737851, 2.38510348, 8.57204469]],\n",
              "\n",
              "       [[8.17847326, 9.17478086, 3.89567674],\n",
              "        [7.26430774, 4.96284772, 0.47811091],\n",
              "        [7.22108824, 6.92858297, 4.0129186 ],\n",
              "        [1.70119346, 1.16956174, 9.02062606]],\n",
              "\n",
              "       [[8.4765881 , 7.38103424, 7.46195706],\n",
              "        [7.52908022, 6.17479137, 8.49970798],\n",
              "        [2.66622815, 1.77878074, 2.23929168],\n",
              "        [0.07534138, 5.90669947, 7.41916379]],\n",
              "\n",
              "       [[8.01508099, 1.86797011, 7.13512856],\n",
              "        [6.21601767, 0.45469004, 7.41226582],\n",
              "        [7.15367077, 1.08010707, 2.37207699],\n",
              "        [3.18334916, 7.42010548, 0.76417543]]])"
            ]
          },
          "metadata": {},
          "execution_count": 23
        }
      ]
    },
    {
      "cell_type": "code",
      "source": [
        "np.random.randn(5,4,3)*10 #cria numeros aleatorio em uma distribuicao gaussiana"
      ],
      "metadata": {
        "colab": {
          "base_uri": "https://localhost:8080/"
        },
        "id": "S0R5s6TDfc4h",
        "outputId": "f8ffa967-c5a9-4f1e-d37e-12d1b805d938"
      },
      "execution_count": 22,
      "outputs": [
        {
          "output_type": "execute_result",
          "data": {
            "text/plain": [
              "array([[[-18.30881951,  -3.62919977,  -1.25718114],\n",
              "        [ -5.55156498,   1.45799535, -17.53104576],\n",
              "        [  1.15388904,  -0.14952783,  -5.1949206 ],\n",
              "        [-12.95866025,  -0.38936053,   6.47229362]],\n",
              "\n",
              "       [[ -5.77226534,   6.12189672,   9.61284407],\n",
              "        [ -0.50261783,  16.88865602,  -2.08634915],\n",
              "        [-16.57847679,   4.7296205 ,  17.90502993],\n",
              "        [-31.57632489,  24.85612257,   3.48287681]],\n",
              "\n",
              "       [[ 19.23172202,  -2.93167697,   0.67818481],\n",
              "        [  7.87908388, -10.10046391,  17.19051638],\n",
              "        [ -2.96330568,   5.70475292,   0.56176674],\n",
              "        [  8.74252906,  -1.42158365,  -5.24850536]],\n",
              "\n",
              "       [[  1.51699272,  -0.52209613,  15.17121698],\n",
              "        [ -7.38371066,   8.22034071,   6.76927709],\n",
              "        [ -5.53551706,  -7.54049924,   2.18830087],\n",
              "        [-10.92271667,   9.72161928, -11.44710818]],\n",
              "\n",
              "       [[ -0.40499304,  -2.46759869,  -1.96816414],\n",
              "        [-12.20750808,   1.09628095,  -2.03979304],\n",
              "        [ -6.60473822,   1.6671302 ,  -5.95898527],\n",
              "        [  7.74103542,   0.43577812, -18.09820801]]])"
            ]
          },
          "metadata": {},
          "execution_count": 22
        }
      ]
    },
    {
      "cell_type": "code",
      "source": [
        "ex = np.random.randint(0,100,10) #cria nunmeross aleatorio inteiros"
      ],
      "metadata": {
        "id": "FvdkQR5IeP1J"
      },
      "execution_count": 25,
      "outputs": []
    },
    {
      "cell_type": "code",
      "source": [
        "ex\n"
      ],
      "metadata": {
        "colab": {
          "base_uri": "https://localhost:8080/"
        },
        "id": "izmON_0xiRsN",
        "outputId": "f6aaf16e-bf46-4e95-d8c1-45126a7e0ef3"
      },
      "execution_count": 26,
      "outputs": [
        {
          "output_type": "execute_result",
          "data": {
            "text/plain": [
              "array([66, 25, 75, 58, 64, 96, 20, 67, 56, 13])"
            ]
          },
          "metadata": {},
          "execution_count": 26
        }
      ]
    },
    {
      "cell_type": "code",
      "source": [
        "ex.max() #mostra o maior elemento"
      ],
      "metadata": {
        "colab": {
          "base_uri": "https://localhost:8080/"
        },
        "id": "lEdeZCcNiV6f",
        "outputId": "0f6415ec-f5fe-468c-abff-dfa9ef9b628d"
      },
      "execution_count": 28,
      "outputs": [
        {
          "output_type": "execute_result",
          "data": {
            "text/plain": [
              "96"
            ]
          },
          "metadata": {},
          "execution_count": 28
        }
      ]
    },
    {
      "cell_type": "code",
      "source": [
        "ex.argmin() #mostra o indice do menor elemento"
      ],
      "metadata": {
        "colab": {
          "base_uri": "https://localhost:8080/"
        },
        "id": "2CZjEsBXifZh",
        "outputId": "1d027c5f-5bbe-4f26-82eb-24099d02fdf8"
      },
      "execution_count": 29,
      "outputs": [
        {
          "output_type": "execute_result",
          "data": {
            "text/plain": [
              "9"
            ]
          },
          "metadata": {},
          "execution_count": 29
        }
      ]
    }
  ]
}