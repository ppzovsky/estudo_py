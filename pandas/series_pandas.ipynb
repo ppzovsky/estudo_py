{
  "nbformat": 4,
  "nbformat_minor": 0,
  "metadata": {
    "colab": {
      "provenance": [],
      "authorship_tag": "ABX9TyNoq3OXqJ50INdcoxV+1l+7",
      "include_colab_link": true
    },
    "kernelspec": {
      "name": "python3",
      "display_name": "Python 3"
    },
    "language_info": {
      "name": "python"
    }
  },
  "cells": [
    {
      "cell_type": "markdown",
      "metadata": {
        "id": "view-in-github",
        "colab_type": "text"
      },
      "source": [
        "<a href=\"https://colab.research.google.com/github/ppzovsky/estudo_py/blob/main/pandas/series_pandas.ipynb\" target=\"_parent\"><img src=\"https://colab.research.google.com/assets/colab-badge.svg\" alt=\"Open In Colab\"/></a>"
      ]
    },
    {
      "cell_type": "code",
      "execution_count": null,
      "metadata": {
        "id": "f7BwGgj0xzUe"
      },
      "outputs": [],
      "source": [
        "import numpy as np\n",
        "import pandas as pd #pandas e muito semelhante ao excell\n",
        "#e feita por cima do numpy, porem suporta muito mais dados"
      ]
    },
    {
      "cell_type": "code",
      "source": [
        "labels = ['a','b','c']"
      ],
      "metadata": {
        "id": "jiGXzswCy9HS"
      },
      "execution_count": null,
      "outputs": []
    },
    {
      "cell_type": "code",
      "source": [
        "lista = [10,20,30]\n",
        "arr = np.array([10,20,30])\n",
        "d = {'a':10, 'b':20, 'c':30}"
      ],
      "metadata": {
        "id": "fZXuIzoGzn3p"
      },
      "execution_count": null,
      "outputs": []
    },
    {
      "cell_type": "code",
      "source": [
        "pd.Series(data=lista, index=labels)\n",
        "#as series sao estruturass de dados com indices"
      ],
      "metadata": {
        "colab": {
          "base_uri": "https://localhost:8080/"
        },
        "id": "UkYB4xxJzyC6",
        "outputId": "ad4752be-692b-4534-b9c1-ee8048dedbee"
      },
      "execution_count": null,
      "outputs": [
        {
          "output_type": "execute_result",
          "data": {
            "text/plain": [
              "a    10\n",
              "b    20\n",
              "c    30\n",
              "dtype: int64"
            ]
          },
          "metadata": {},
          "execution_count": 5
        }
      ]
    },
    {
      "cell_type": "code",
      "source": [
        "series = pd.Series(data=lista, index=labels)\n",
        "series ['b']"
      ],
      "metadata": {
        "colab": {
          "base_uri": "https://localhost:8080/"
        },
        "id": "HvXxk3hN0iTB",
        "outputId": "36524104-928a-4d8b-c1f4-4db203629138"
      },
      "execution_count": null,
      "outputs": [
        {
          "output_type": "execute_result",
          "data": {
            "text/plain": [
              "20"
            ]
          },
          "metadata": {},
          "execution_count": 6
        }
      ]
    },
    {
      "cell_type": "code",
      "source": [
        "pd.Series(arr, labels)"
      ],
      "metadata": {
        "colab": {
          "base_uri": "https://localhost:8080/"
        },
        "id": "1lbyoAY21RhD",
        "outputId": "201601c2-3a40-4654-80ea-77619fee3399"
      },
      "execution_count": null,
      "outputs": [
        {
          "output_type": "execute_result",
          "data": {
            "text/plain": [
              "a    10\n",
              "b    20\n",
              "c    30\n",
              "dtype: int64"
            ]
          },
          "metadata": {},
          "execution_count": 7
        }
      ]
    },
    {
      "cell_type": "code",
      "source": [
        "#uma series pode ter qualquer tipo de dado\n"
      ],
      "metadata": {
        "id": "9ydgWBlj1sld"
      },
      "execution_count": null,
      "outputs": []
    },
    {
      "cell_type": "code",
      "source": [
        "pd.Series([sum, len])"
      ],
      "metadata": {
        "colab": {
          "base_uri": "https://localhost:8080/"
        },
        "id": "vsrjzEoV14AQ",
        "outputId": "8a819445-3dcb-46e5-d71c-2689b3c30893"
      },
      "execution_count": null,
      "outputs": [
        {
          "output_type": "execute_result",
          "data": {
            "text/plain": [
              "0    <built-in function sum>\n",
              "1    <built-in function len>\n",
              "dtype: object"
            ]
          },
          "metadata": {},
          "execution_count": 9
        }
      ]
    },
    {
      "cell_type": "code",
      "source": [
        "ser1 = pd.Series([1,2,3,4], ['EUA', 'Brasil', 'Japao', 'Argelia'])\n",
        "ser1"
      ],
      "metadata": {
        "id": "SzvIzGme19m1",
        "colab": {
          "base_uri": "https://localhost:8080/"
        },
        "outputId": "dc946723-1587-4f9c-c49f-34952c03383b"
      },
      "execution_count": 12,
      "outputs": [
        {
          "output_type": "execute_result",
          "data": {
            "text/plain": [
              "EUA        1\n",
              "Brasil     2\n",
              "Japao      3\n",
              "Argelia    4\n",
              "dtype: int64"
            ]
          },
          "metadata": {},
          "execution_count": 12
        }
      ]
    },
    {
      "cell_type": "code",
      "source": [
        "ser2 = pd.Series([1,2,3,4], ['EUA', 'Brasil', 'Japao', 'Colombia'])\n",
        "ser2"
      ],
      "metadata": {
        "colab": {
          "base_uri": "https://localhost:8080/"
        },
        "id": "OJ5bs_rsatVD",
        "outputId": "74f95aae-9299-44f6-e4cf-a7c085a80f84"
      },
      "execution_count": 13,
      "outputs": [
        {
          "output_type": "execute_result",
          "data": {
            "text/plain": [
              "EUA         1\n",
              "Brasil      2\n",
              "Japao       3\n",
              "Colombia    4\n",
              "dtype: int64"
            ]
          },
          "metadata": {},
          "execution_count": 13
        }
      ]
    },
    {
      "cell_type": "code",
      "source": [
        "ser1 + ser2\n",
        "#ele vai somar os indices dos elementos iguais, pois o panda vai trabalhar desta forma\n",
        "#o pandas faz operacoes pensando no indice"
      ],
      "metadata": {
        "colab": {
          "base_uri": "https://localhost:8080/"
        },
        "id": "El8hW9OGa9dV",
        "outputId": "e85ad68d-e0d0-42dd-8aae-c295b28f6d32"
      },
      "execution_count": 15,
      "outputs": [
        {
          "output_type": "execute_result",
          "data": {
            "text/plain": [
              "Argelia     NaN\n",
              "Brasil      4.0\n",
              "Colombia    NaN\n",
              "EUA         2.0\n",
              "Japao       6.0\n",
              "dtype: float64"
            ]
          },
          "metadata": {},
          "execution_count": 15
        }
      ]
    },
    {
      "cell_type": "code",
      "source": [],
      "metadata": {
        "id": "2USU4rv0bBmp"
      },
      "execution_count": null,
      "outputs": []
    }
  ]
}