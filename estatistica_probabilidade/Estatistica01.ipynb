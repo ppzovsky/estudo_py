{
  "nbformat": 4,
  "nbformat_minor": 0,
  "metadata": {
    "colab": {
      "provenance": [],
      "authorship_tag": "ABX9TyNUDYT1fZIFQjRQJp+/dZJj",
      "include_colab_link": true
    },
    "kernelspec": {
      "name": "python3",
      "display_name": "Python 3"
    },
    "language_info": {
      "name": "python"
    }
  },
  "cells": [
    {
      "cell_type": "markdown",
      "metadata": {
        "id": "view-in-github",
        "colab_type": "text"
      },
      "source": [
        "<a href=\"https://colab.research.google.com/github/ppzovsky/estudo_py/blob/main/estatistica_probabilidade/Estatistica01.ipynb\" target=\"_parent\"><img src=\"https://colab.research.google.com/assets/colab-badge.svg\" alt=\"Open In Colab\"/></a>"
      ]
    },
    {
      "cell_type": "code",
      "execution_count": 49,
      "metadata": {
        "id": "s27YSYVyUYvM"
      },
      "outputs": [],
      "source": [
        "import numpy as np\n",
        "import matplotlib.pyplot as plt #utilizamos matplot para plotar os graficos\n",
        "import scipy.stats #para calcularmos a moda, utilizamos a biblioteca scipy"
      ]
    },
    {
      "cell_type": "code",
      "source": [
        "ic = np.random.normal(15, 10,10000) #o random.normal gra numeros aleatorios sem repeticao\n",
        "np.mean (ic) #geramos um array de numeros aleatorios, e depois calculamo as suas medias"
      ],
      "metadata": {
        "colab": {
          "base_uri": "https://localhost:8080/"
        },
        "id": "Fe8hz5xxpbRE",
        "outputId": "f76f807f-c094-4c94-f6dc-3e9af993b5c6"
      },
      "execution_count": 70,
      "outputs": [
        {
          "output_type": "execute_result",
          "data": {
            "text/plain": [
              "15.188997805033178"
            ]
          },
          "metadata": {},
          "execution_count": 70
        }
      ]
    },
    {
      "cell_type": "code",
      "source": [
        "%matplotlib inline\n",
        "plt.hist(ic,10) #o primeiro argumento ssão os dados que queremos desenhar no grafico, e o segundo, a quantidade de barras desenhadas\n",
        "plt.show()\n",
        "#utilizamos aqui uma biblioteca que desenha graficos, para que possamos ver os numeros gerados no random com clareza\n",
        "#desta forma conseguimoss visualizar o que aconteceu, e o porque da media gerada"
      ],
      "metadata": {
        "colab": {
          "base_uri": "https://localhost:8080/",
          "height": 430
        },
        "id": "-WWksCoWqBRd",
        "outputId": "e4651915-0a7b-4fdf-9600-92898a9d8fd3"
      },
      "execution_count": 61,
      "outputs": [
        {
          "output_type": "display_data",
          "data": {
            "text/plain": [
              "<Figure size 640x480 with 1 Axes>"
            ],
            "image/png": "[encoded data removed]"
          },
          "metadata": {}
        }
      ]
    },
    {
      "cell_type": "code",
      "source": [
        "np.median(ic) #esta diz a mediana do conjunto de dados"
      ],
      "metadata": {
        "colab": {
          "base_uri": "https://localhost:8080/"
        },
        "id": "vvkaYu-nuKDK",
        "outputId": "b9b5c3f1-6ff7-4640-810a-bcc4261945ef"
      },
      "execution_count": 62,
      "outputs": [
        {
          "output_type": "execute_result",
          "data": {
            "text/plain": [
              "14.78930405859704"
            ]
          },
          "metadata": {},
          "execution_count": 62
        }
      ]
    },
    {
      "cell_type": "code",
      "source": [
        "#vamos adicionar agr um dado com o valor muito diferente no nosso array, para ver o que acontece com a mediana\n",
        "ic = np.append(ic,[1000])"
      ],
      "metadata": {
        "id": "3eu1RKpmudRQ"
      },
      "execution_count": 63,
      "outputs": []
    },
    {
      "cell_type": "code",
      "source": [
        "np.median(ic)\n"
      ],
      "metadata": {
        "colab": {
          "base_uri": "https://localhost:8080/"
        },
        "id": "7cXLCuMbu1Fe",
        "outputId": "448f7be0-5490-4c5d-da52-882639e43c84"
      },
      "execution_count": 64,
      "outputs": [
        {
          "output_type": "execute_result",
          "data": {
            "text/plain": [
              "14.78979368113989"
            ]
          },
          "metadata": {},
          "execution_count": 64
        }
      ]
    },
    {
      "cell_type": "code",
      "source": [
        "np.mean (ic)\n",
        "#podemoss ver que a mediana n muda muito, ja a media sobe"
      ],
      "metadata": {
        "colab": {
          "base_uri": "https://localhost:8080/"
        },
        "id": "2rtiUviYu4VE",
        "outputId": "00a88a10-bbdc-4c36-da59-c156746f050c"
      },
      "execution_count": 69,
      "outputs": [
        {
          "output_type": "execute_result",
          "data": {
            "text/plain": [
              "14.927710992948557"
            ]
          },
          "metadata": {},
          "execution_count": 69
        }
      ]
    },
    {
      "cell_type": "code",
      "source": [
        "# from scipy import stats é um modo diferente de importar bibliotecas\n",
        "#para ter moda precisamos de dados repetidos, por isso ela aponta o menor numero em ic\n",
        "stats.mode(ic) #aqui obtemos a moda, e ao lado o numero de vezes que ele aparece entre os dados"
      ],
      "metadata": {
        "colab": {
          "base_uri": "https://localhost:8080/"
        },
        "id": "mVHmbO38vLth",
        "outputId": "f2155c27-d512-41e1-b77d-981324eff68d"
      },
      "execution_count": 68,
      "outputs": [
        {
          "output_type": "execute_result",
          "data": {
            "text/plain": [
              "ModeResult(mode=-22.933573545746647, count=1)"
            ]
          },
          "metadata": {},
          "execution_count": 68
        }
      ]
    },
    {
      "cell_type": "code",
      "source": [
        "ig = np.random.randint(0, 100, 200)\n",
        "ig"
      ],
      "metadata": {
        "colab": {
          "base_uri": "https://localhost:8080/"
        },
        "id": "rjkTZdW4vsn7",
        "outputId": "b11b73b5-e137-4601-9d8d-b984be2c3781"
      },
      "execution_count": 77,
      "outputs": [
        {
          "output_type": "execute_result",
          "data": {
            "text/plain": [
              "array([79, 33, 79, 91, 69,  3, 38, 96, 39, 40, 37, 20, 99, 69, 97, 82, 83,\n",
              "       22, 15, 65, 16, 19, 87, 50, 33, 22, 17, 90, 38, 66, 87, 35, 17, 36,\n",
              "       11, 43, 52, 49, 77, 11, 39, 75, 58, 48, 47, 41, 36, 39, 74,  1, 85,\n",
              "       97, 13, 56, 97, 35, 28, 14, 20, 71, 66,  9, 58,  2, 14,  7, 32, 16,\n",
              "       50, 69, 61, 58, 93, 20, 84, 60,  3, 11, 61, 24, 64, 95, 33, 97, 24,\n",
              "       91, 45, 41, 72, 82, 70, 94, 20, 22, 71, 23, 93, 86, 36, 97, 87, 58,\n",
              "        5, 97, 74, 56,  2, 20,  1, 40, 42, 46, 44,  0,  2, 84, 58, 75, 58,\n",
              "       49, 89, 36, 76, 62, 36, 61, 98, 14, 15, 33, 66, 22, 45,  8, 78,  0,\n",
              "        6, 93, 80,  5, 69, 16,  7, 39, 29, 16,  1,  6, 22, 60, 79, 36,  2,\n",
              "       75, 31, 79, 41, 49,  0, 69, 46, 94, 76, 51,  3, 15, 82, 65, 72, 36,\n",
              "       50, 96, 30, 27, 35, 81, 44, 80, 82, 90, 80, 76, 41, 94, 31, 50, 85,\n",
              "       96, 19, 64, 11, 29, 50,  7, 29, 51, 52, 88, 67, 62])"
            ]
          },
          "metadata": {},
          "execution_count": 77
        }
      ]
    },
    {
      "cell_type": "code",
      "source": [
        "stats.mode(ig)\n",
        "#para esse exemplo geramos um array com 200 numeros de 0 a 100, e a moda foi apontada como 62"
      ],
      "metadata": {
        "colab": {
          "base_uri": "https://localhost:8080/"
        },
        "id": "N1l9wKKvxOHQ",
        "outputId": "bd248ce3-b16a-462e-ac7b-0b7175c404be"
      },
      "execution_count": 81,
      "outputs": [
        {
          "output_type": "execute_result",
          "data": {
            "text/plain": [
              "ModeResult(mode=36, count=7)"
            ]
          },
          "metadata": {},
          "execution_count": 81
        }
      ]
    },
    {
      "cell_type": "code",
      "source": [
        "np.mean(ig)"
      ],
      "metadata": {
        "colab": {
          "base_uri": "https://localhost:8080/"
        },
        "id": "Cwk43VlNyKzc",
        "outputId": "bd8e3128-fed4-479b-bee7-8391ada3fe45"
      },
      "execution_count": 82,
      "outputs": [
        {
          "output_type": "execute_result",
          "data": {
            "text/plain": [
              "49.12"
            ]
          },
          "metadata": {},
          "execution_count": 82
        }
      ]
    },
    {
      "cell_type": "code",
      "source": [
        "np.median(ig)"
      ],
      "metadata": {
        "colab": {
          "base_uri": "https://localhost:8080/"
        },
        "id": "ld1RTtAZyOg5",
        "outputId": "276065c3-3d47-4a60-eff7-7e40d8a2fbec"
      },
      "execution_count": 83,
      "outputs": [
        {
          "output_type": "execute_result",
          "data": {
            "text/plain": [
              "48.5"
            ]
          },
          "metadata": {},
          "execution_count": 83
        }
      ]
    },
    {
      "cell_type": "code",
      "source": [
        "%matplotlib inline\n",
        "plt.hist(ig,15)\n",
        "plt.show"
      ],
      "metadata": {
        "colab": {
          "base_uri": "https://localhost:8080/",
          "height": 447
        },
        "id": "6_KIOokAxTq4",
        "outputId": "12c3de0d-77f7-40ec-cda6-14e3b20b06f1"
      },
      "execution_count": 80,
      "outputs": [
        {
          "output_type": "execute_result",
          "data": {
            "text/plain": [
              "<function matplotlib.pyplot.show(close=None, block=None)>"
            ]
          },
          "metadata": {},
          "execution_count": 80
        },
        {
          "output_type": "display_data",
          "data": {
            "text/plain": [
              "<Figure size 640x480 with 1 Axes>"
            ],
            "image/png": "[encoded data removed]"
          },
          "metadata": {}
        }
      ]
    },
    {
      "cell_type": "code",
      "source": [],
      "metadata": {
        "id": "cgOlzre-x-ng"
      },
      "execution_count": null,
      "outputs": []
    }
  ]
}