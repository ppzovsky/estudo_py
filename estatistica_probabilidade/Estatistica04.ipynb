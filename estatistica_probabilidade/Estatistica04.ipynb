{
  "nbformat": 4,
  "nbformat_minor": 0,
  "metadata": {
    "colab": {
      "provenance": [],
      "authorship_tag": "ABX9TyN+Cbb0YyUA/eK7AoZIHu9J",
      "include_colab_link": true
    },
    "kernelspec": {
      "name": "python3",
      "display_name": "Python 3"
    },
    "language_info": {
      "name": "python"
    }
  },
  "cells": [
    {
      "cell_type": "markdown",
      "metadata": {
        "id": "view-in-github",
        "colab_type": "text"
      },
      "source": [
        "<a href=\"https://colab.research.google.com/github/ppzovsky/estudo_py/blob/main/estatistica_probabilidade/Estatistica04.ipynb\" target=\"_parent\"><img src=\"https://colab.research.google.com/assets/colab-badge.svg\" alt=\"Open In Colab\"/></a>"
      ]
    },
    {
      "cell_type": "code",
      "execution_count": 28,
      "metadata": {
        "id": "xQeaLvw4SOE3",
        "colab": {
          "base_uri": "https://localhost:8080/",
          "height": 430
        },
        "outputId": "62709462-0a4d-45d7-8201-c9807eea03e5"
      },
      "outputs": [
        {
          "output_type": "display_data",
          "data": {
            "text/plain": [
              "<Figure size 640x480 with 1 Axes>"
            ],
            "image/png": "[encoded data removed]"
          },
          "metadata": {}
        }
      ],
      "source": [
        "#Percentil e Momentos\n",
        "#Percentil são certos números que dividem a sequência de dados ordenados em cem partes iguais de percentagens”\n",
        "import numpy as np\n",
        "import matplotlib.pyplot as plt\n",
        "import scipy.stats as sp\n",
        "\n",
        "valores =  np.random.normal(0,5,1000000) #distribuição normal variando ao entorno do numero 0\n",
        "\n",
        "plt.hist(valores, 100)\n",
        "plt.show()"
      ]
    },
    {
      "cell_type": "code",
      "source": [
        "np.percentile(valores,50)\n",
        "#o segundo numero indica qual percentil eu quero mostrar\n",
        "#o percentil indica qual valor está a baixo de uma certa métrica\n",
        "#por exemplo aqui, quero saber qual valor marca a régua dos 50% totais"
      ],
      "metadata": {
        "id": "K7w_HelZTLdi",
        "colab": {
          "base_uri": "https://localhost:8080/"
        },
        "outputId": "7501af38-a378-41c5-b5e8-13a0369b20ae"
      },
      "execution_count": 29,
      "outputs": [
        {
          "output_type": "execute_result",
          "data": {
            "text/plain": [
              "0.0017881114611365508"
            ]
          },
          "metadata": {},
          "execution_count": 29
        }
      ]
    },
    {
      "cell_type": "code",
      "source": [
        "#Momentos são a maneira de medir as formas de uma distribuição de dados\n",
        "#O primeiro momento é para medir a média, o segunda indica a variância\n",
        "#O terceiro momento é a obliquidade que mede o quão desequilibrada é uma distribuição\n",
        "#O quarto momento é a curtose, que diz o quão afiado é o pico de uma distribuição de dados\n",
        "\n",
        "print (\"A media da distribuicao e:\", np.mean(valores))\n",
        "print (\"\\nA variancia e:\", np.var(valores))\n",
        "print (\"\\nA obliquidade e\", sp.skew(valores)) #quando a obliquidade for negativa o grafico vai se inclinar para esquerda, ja na positiva ele vai se inclinar para direita\n",
        "print (\"\\nA curtose e:\", sp.kurtosis(valores)) #enquanto menor o valor da curtose, mais afiado sera o pico de dados, e enquanto mais proxima de 0, mais semelhante esta a distribuicao normal\n"
      ],
      "metadata": {
        "colab": {
          "base_uri": "https://localhost:8080/"
        },
        "id": "CtXU7yKoCGZp",
        "outputId": "3ab13add-0979-48dd-9ad8-7b23bb7ed6bd"
      },
      "execution_count": 30,
      "outputs": [
        {
          "output_type": "stream",
          "name": "stdout",
          "text": [
            "A media da distribuicao e: -0.00207645279211308\n",
            "\n",
            "A variancia e: 25.034901584169678\n",
            "\n",
            "A obliquidade e -0.0005258677595663685\n",
            "\n",
            "A curtose e: -0.0016632649168570879\n"
          ]
        }
      ]
    },
    {
      "cell_type": "code",
      "source": [],
      "metadata": {
        "id": "-1gaX5MkEbcs"
      },
      "execution_count": 23,
      "outputs": []
    }
  ]
}