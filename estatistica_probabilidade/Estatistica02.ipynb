{
  "nbformat": 4,
  "nbformat_minor": 0,
  "metadata": {
    "colab": {
      "provenance": [],
      "authorship_tag": "ABX9TyMZuuwQVLj9Q/dNx3AyO/jE",
      "include_colab_link": true
    },
    "kernelspec": {
      "name": "python3",
      "display_name": "Python 3"
    },
    "language_info": {
      "name": "python"
    }
  },
  "cells": [
    {
      "cell_type": "markdown",
      "metadata": {
        "id": "view-in-github",
        "colab_type": "text"
      },
      "source": [
        "<a href=\"https://colab.research.google.com/github/ppzovsky/estudo_py/blob/main/estatistica_probabilidade/Estatistica02.ipynb\" target=\"_parent\"><img src=\"https://colab.research.google.com/assets/colab-badge.svg\" alt=\"Open In Colab\"/></a>"
      ]
    },
    {
      "cell_type": "code",
      "execution_count": 14,
      "metadata": {
        "colab": {
          "base_uri": "https://localhost:8080/",
          "height": 430
        },
        "id": "kr90JqTI4CSS",
        "outputId": "b2627ea0-fe2c-44ea-99af-99e00a25e2bd"
      },
      "outputs": [
        {
          "output_type": "display_data",
          "data": {
            "text/plain": [
              "<Figure size 640x480 with 1 Axes>"
            ],
            "image/png": "[encoded data removed]"
          },
          "metadata": {}
        }
      ],
      "source": [
        "#CONCEITOS DE DESVIO PADRÃO E VARIÂNCIA\n",
        "import numpy as np\n",
        "import matplotlib.pyplot as plt\n",
        "\n",
        "incomes = np.random.normal(100, 50, 10000)\n",
        "plt.hist(incomes, 50)\n",
        "plt.show()"
      ]
    },
    {
      "cell_type": "code",
      "source": [
        "incomes.std() #funcao para mostrar o desvio padrao"
      ],
      "metadata": {
        "colab": {
          "base_uri": "https://localhost:8080/"
        },
        "id": "OHqMfLbf5hgu",
        "outputId": "7eccdeb0-c9ad-42c6-deab-c09e9f9a1b03"
      },
      "execution_count": 15,
      "outputs": [
        {
          "output_type": "execute_result",
          "data": {
            "text/plain": [
              "49.859322508438225"
            ]
          },
          "metadata": {},
          "execution_count": 15
        }
      ]
    },
    {
      "cell_type": "code",
      "source": [
        "incomes.var() #mostra a variancia, que e o desvio padrao elevado ao quadrado"
      ],
      "metadata": {
        "colab": {
          "base_uri": "https://localhost:8080/"
        },
        "id": "qBLD-rdB5yXr",
        "outputId": "daf8bbc1-59b6-42c1-eb13-c3e116cd5cd7"
      },
      "execution_count": 16,
      "outputs": [
        {
          "output_type": "execute_result",
          "data": {
            "text/plain": [
              "2485.9520410004548"
            ]
          },
          "metadata": {},
          "execution_count": 16
        }
      ]
    },
    {
      "cell_type": "code",
      "source": [],
      "metadata": {
        "id": "qIhgTN6MNxVQ"
      },
      "execution_count": null,
      "outputs": []
    }
  ]
}